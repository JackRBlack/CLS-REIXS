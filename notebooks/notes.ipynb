{
 "cells": [
  {
   "cell_type": "markdown",
   "metadata": {},
   "source": [
    "# Notes\n",
    "## Wenjie Chen\n",
    "### Date: May 11st, 2018"
   ]
  },
  {
   "cell_type": "markdown",
   "metadata": {},
   "source": [
    "## 1. Two kinds of detecting methods\n",
    "\n",
    "1. **<font color=red>TEY (Total Electron Yield) --- surface sensitive<font>**\n",
    ">In the total electron yield detection mode (TEY) the total number of electrons (photoelectrons, Auger electrons, secondary electrons) emitted from the sample are counted. Secondary electrons are the electrons ejected after the interaction of the atoms of the sample with the fluorescence photons and/or the primary Auger electrons and photoelectrons. The number of emitted electrons is proportional to the number of holes created in the sample, which is proportional to the number of the absorbed photons. Since the mean free path of the electrons is very small (Fig. 1) the TEY mode is surface sensitive. Therefore, measurements in the TEY mode require atomically clean surfaces. Additionally, in non-conductive materials \"charging\" phenomena can distort the spectra. TEY spectra can be recorded using a channeltron (Fig. 2). It consists of a tube whose inner surface is covered with a photosensitive material which emits electrons when a charged particle with sufficient energy impinges on it. A high voltage is applied between the two ends of the tube. When an electron enters the channeltron, it strikes the inner surface of the tube and induces the production of secondary electrons that are further accelerated to cause a cascade phenomenon. Therefore, an internal amplification of the signal takes place. The output electrons can be counted using a proper electrometer.\" \n",
    "--- see http://users.auth.gr/~katsiki/TEY.htm with figure\n",
    "\n",
    "2. **<font color=blue>MCP (micro-channel plate) --- bulk sensitive<font>**\n",
    ">A micro-channel plate (MCP) is a planar component used for detection of single particles (electrons, ions and neutrons[1]) and low intensity impinging radiation (ultraviolet radiation and X-rays). It is closely related to an electron multiplier, as both intensify single particles or photons by the multiplication of electrons via secondary emission.[2] However, because a microchannel plate detector has many separate channels, it can additionally provide spatial resolution.\n",
    "--- see https://en.wikipedia.org/wiki/Microchannel_plate_detector\n",
    "\n",
    "The two curves below shows the difference between TEY mode and MCP mode:"
   ]
  },
  {
   "cell_type": "code",
   "execution_count": null,
   "metadata": {
    "collapsed": true
   },
   "outputs": [],
   "source": []
  }
 ],
 "metadata": {
  "kernelspec": {
   "display_name": "Python 3",
   "language": "python",
   "name": "python3"
  },
  "language_info": {
   "codemirror_mode": {
    "name": "ipython",
    "version": 3
   },
   "file_extension": ".py",
   "mimetype": "text/x-python",
   "name": "python",
   "nbconvert_exporter": "python",
   "pygments_lexer": "ipython3",
   "version": "3.6.3"
  }
 },
 "nbformat": 4,
 "nbformat_minor": 2
}

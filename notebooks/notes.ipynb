{
 "cells": [
  {
   "cell_type": "markdown",
   "metadata": {},
   "source": [
    "# Notes\n",
    "## Wenjie Chen\n",
    "### Date: May 11st, 2018"
   ]
  },
  {
   "cell_type": "code",
   "execution_count": 3,
   "metadata": {
    "collapsed": true
   },
   "outputs": [],
   "source": [
    "import matplotlib.pyplot as plt\n",
    "import numpy as np"
   ]
  },
  {
   "cell_type": "markdown",
   "metadata": {},
   "source": [
    "## 1. Two kinds of detecting methods"
   ]
  },
  {
   "cell_type": "markdown",
   "metadata": {},
   "source": [
    "A. **<font color=red>TEY (Total Electron Yield) --- surface sensitive<font>**\n",
    "\n",
    ">In the total electron yield detection mode (TEY) the total number of electrons (photoelectrons, Auger electrons, secondary electrons) emitted from the sample are counted. Secondary electrons are the electrons ejected after the interaction of the atoms of the sample with the fluorescence photons and/or the primary Auger electrons and photoelectrons. The number of emitted electrons is proportional to the number of holes created in the sample, which is proportional to the number of the absorbed photons. Since the mean free path of the electrons is very small (Fig. 1) the TEY mode is surface sensitive. Therefore, measurements in the TEY mode require atomically clean surfaces. Additionally, in non-conductive materials \"charging\" phenomena can distort the spectra. TEY spectra can be recorded using a channeltron (Fig. 2). It consists of a tube whose inner surface is covered with a photosensitive material which emits electrons when a charged particle with sufficient energy impinges on it. A high voltage is applied between the two ends of the tube. When an electron enters the channeltron, it strikes the inner surface of the tube and induces the production of secondary electrons that are further accelerated to cause a cascade phenomenon. Therefore, an internal amplification of the signal takes place. The output electrons can be counted using a proper electrometer.\" \n",
    "\n",
    ">--- see http://users.auth.gr/~katsiki/TEY.htm with figure\n",
    "\n",
    "B. **<font color=blue>MCP (micro-channel plate) --- bulk sensitive<font>**\n",
    "\n",
    ">A micro-channel plate (MCP) is a planar component used for detection of single particles (electrons, ions and neutrons[1]) and low intensity impinging radiation (ultraviolet radiation and X-rays). It is closely related to an electron multiplier, as both intensify single particles or photons by the multiplication of electrons via secondary emission.[2] However, because a microchannel plate detector has many separate channels, it can additionally provide spatial resolution.\n",
    "\n",
    ">--- from https://en.wikipedia.org/wiki/Microchannel_plate_detector\n",
    "\n",
    "The two curves below shows the difference between TEY mode and MCP mode:\n",
    "\n",
    "![comparision](./figures/TEY_MCP_comparison.png)\n",
    "\n",
    "Obviously, only a slight difference could be observed between the two scans in MCP mode. However, this is not the case in TEY mode, which indicates that the TEY mode is more surface sensitive.\n",
    "\n",
    "<div class=\"alert alert-block alert-success\">**Note**: This is an X-ray emission spectrum for element O (K edge 525 meV) in Hg-1201 ($\\rm HgBa_2CuO_4$).</div>"
   ]
  },
  {
   "cell_type": "markdown",
   "metadata": {},
   "source": [
    "When we were scanning th for a signal, an interesting curve can be observed in TEY mode, shown as below (data marked with \"*\").\n",
    "\n",
    "![model](./figures/TEY-theta-model.png)\n",
    "\n",
    "This can be explained with a simple model. The signal in TEY mode is actually the fluoresence, which means the X-ray beam firstly kicks the electrons from low energy level to high energy level, and then the electrons fall back and emit photons, a.k.a fluoresence.\n",
    "\n",
    "![geometry](./figures/geometry.PNG)\n",
    "\n",
    "When the incoming beam cast on the sample surface, the lightened area size will change with $\\theta$, i.e. the angle between the incoming beam and the sample surface. The signal intensity may be propotional to the lightened surface (what about the penetration depth?). If this is the case, we can do the following calculations:\n",
    "\n",
    "<p><center>$S_0 = \\pi r^2$</center></p>\n",
    "<p><center>$S = \\pi r^2 / \\cos \\theta$</center></p>\n",
    "<p><center>$S / S_0 = 1 / \\cos \\theta$</center></p>\n",
    "\n",
    "The two curves (experiments and model) are shown together above. The little deviation may be due to the penetration depth not considered."
   ]
  },
  {
   "cell_type": "markdown",
   "metadata": {},
   "source": [
    "## 2. Absorption edge"
   ]
  },
  {
   "cell_type": "markdown",
   "metadata": {},
   "source": [
    ">An absorption edge, absorption discontinuity or absorption limit is a sharp discontinuity in the absorption spectrum of a substance. These discontinuities occur at wavelengths where the energy of an absorbed photon corresponds to an electronic transition or ionization potential. When the quantum energy of the incident radiation becomes smaller than the work required to eject an electron from one or other quantum states in the constituent absorbing atom the incident radiation ceases to be absorbed by that state. For example, incident radiation on an atom of a wavelength that has a corresponding energy just below the binding energy of the K shell electron in that atom cannot eject the K shell electron.[1]\n",
    "--- from https://en.wikipedia.org/wiki/Absorption_edge"
   ]
  },
  {
   "cell_type": "markdown",
   "metadata": {},
   "source": [
    "![two](./figures/800px-Spectroscopy_overview.svg.png)"
   ]
  },
  {
   "cell_type": "markdown",
   "metadata": {},
   "source": [
    "Another case is the emission spectrum, where the material takes energy from X-ray and emits photon accordingly.\n",
    "\n",
    "A table of X-ray Absorption and Emission Energies of the Elements is available at http://gsecars.uchicago.edu/page/xraytable ."
   ]
  },
  {
   "cell_type": "markdown",
   "metadata": {},
   "source": [
    "## 3. Photondiode & Channeltron"
   ]
  },
  {
   "cell_type": "markdown",
   "metadata": {},
   "source": [
    "A. **<font color=red>photondiode<font>**\n",
    "\n",
    ">A photodiode is a semiconductor device that converts light into an electrical current. The current is generated when photons are absorbed in the photodiode. Photodiodes may contain optical filters, built-in lenses, and may have large or small surface areas. Photodiodes usually have a slower response time as their surface area increases. The common, traditional solar cell used to generate electric solar power is a large area photodiode.\n",
    "\n",
    ">...\n",
    "\n",
    ">A photodiode is a p–n junction or PIN structure. When a photon of sufficient energy strikes the diode, it creates an electron-hole pair. This mechanism is also known as the inner photoelectric effect. If the absorption occurs in the junction's depletion region, or one diffusion length away from it, these carriers are swept from the junction by the built-in electric field of the depletion region. Thus holes move toward the anode, and electrons toward the cathode, and a photocurrent is produced. The total current through the photodiode is the sum of the dark current (current that is generated in the absence of light) and the photocurrent, so the dark current must be minimized to maximize the sensitivity of the device.[2]\n",
    "\n",
    ">--- from https://en.wikipedia.org/wiki/Photodiode\n",
    "\n",
    "B. **<font color=blue>channeltron<font>**\n",
    "\n",
    ">An electron multiplier is a vacuum-tube structure that multiplies incident charges.[1] In a process called secondary emission, a single electron can, when bombarded on secondary-emissive material, induce emission of roughly 1 to 3 electrons. If an electric potential is applied between this metal plate and yet another, the emitted electrons will accelerate to the next metal plate and induce secondary emission of still more electrons. This can be repeated a number of times, resulting in a large shower of electrons all collected by a metal anode, all having been triggered by just one.\n",
    "\n",
    ">...\n",
    "\n",
    ">A \"continuous-dynode\" structure is feasible if the material of the electrodes has a high resistance so that the functions of secondary emission and voltage division are merged.[3] This is often built as a funnel of glass coated inside with a thin film of semiconducting material, with negative high voltage applied at the wider input end, and positive voltage near ground applied at the narrower output end. Electrons emitted at any point are accelerated a modest distance down the funnel before impacting the surface, perhaps on the opposite side of the funnel. At the destination end a separate electrode (anode) remains necessary to collect the multiplied electrons. This structure is also known as (single) channel electron multiplier (CEM) or continuous channel multiplier, and one of the most common is sold under the trade name Bendix Channeltron.\n",
    "\n",
    ">Another geometry of continuous-dynode electron multiplier is called the microchannel plate.[4][5] It may be considered a 2-dimensional parallel array of very small continuous-dynode electron multipliers, built together and powered in parallel. Each microchannel is generally parallel-walled, not tapered or funnel-like.\n",
    "\n",
    ">--- from https://en.wikipedia.org/wiki/Electron_multiplier\n",
    "\n",
    "The picture below shows an electron multiplier.\n",
    "\n",
    "![two](./figures/Electron_multiplier.svg)"
   ]
  },
  {
   "cell_type": "code",
   "execution_count": null,
   "metadata": {
    "collapsed": true
   },
   "outputs": [],
   "source": []
  }
 ],
 "metadata": {
  "kernelspec": {
   "display_name": "Python 3",
   "language": "python",
   "name": "python3"
  },
  "language_info": {
   "codemirror_mode": {
    "name": "ipython",
    "version": 3
   },
   "file_extension": ".py",
   "mimetype": "text/x-python",
   "name": "python",
   "nbconvert_exporter": "python",
   "pygments_lexer": "ipython3",
   "version": "3.6.3"
  }
 },
 "nbformat": 4,
 "nbformat_minor": 2
}

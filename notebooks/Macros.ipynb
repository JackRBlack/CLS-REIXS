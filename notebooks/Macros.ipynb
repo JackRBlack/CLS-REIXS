{
 "cells": [
  {
   "cell_type": "markdown",
   "metadata": {},
   "source": [
    "# Macros\n",
    "## Wenjie Chen\n",
    "### Date: May 10th, 2018"
   ]
  },
  {
   "cell_type": "markdown",
   "metadata": {},
   "source": [
    "How to use own-defined macros:\n",
    "\n",
    "1. Write the macro into a file named FILENAME.\n",
    "2. Type the following command in console to refresh the library:\n",
    "```python\n",
    "qdo PATH/FILENAME\n",
    "# qdo ./macro/example_macro\n",
    "```\n",
    "3. Run the function in console."
   ]
  },
  {
   "cell_type": "code",
   "execution_count": 2,
   "metadata": {},
   "outputs": [
    {
     "ename": "SyntaxError",
     "evalue": "invalid syntax (<ipython-input-2-39f92fd47021>, line 5)",
     "output_type": "error",
     "traceback": [
      "\u001b[1;36m  File \u001b[1;32m\"<ipython-input-2-39f92fd47021>\"\u001b[1;36m, line \u001b[1;32m5\u001b[0m\n\u001b[1;33m    uan 170 90 # uan tth_pos th_pos, Move while updating screen\u001b[0m\n\u001b[1;37m          ^\u001b[0m\n\u001b[1;31mSyntaxError\u001b[0m\u001b[1;31m:\u001b[0m invalid syntax\n"
     ]
    }
   ],
   "source": [
    "# This is a macro to perform temperature variation scans automatically.\n",
    "# Please note that several operations may not be perfectly fulfilled automatically, i.e. we need to pay attention.k\n",
    "\n",
    "te 35 # Read or set the temperature\n",
    "do_sleep 600 # sleep for 600 seconds\n",
    "energycheck # run a macro to check if the beam energy is good to go, will be explained in the following box\n",
    "align30 # run a macro to check\n",
    "\n",
    "# run multiple scans to reduce fluctuation\n",
    "ascan th 90 140 50 8 # ascan motor start finish intervals time(time the detector stays at the point)\n",
    "do_sleep 10 # sleep for 10s\n",
    "ascan th 90 140 50 8\n",
    "do_sleep 10\n",
    "......  # scan for multiple times\n",
    "ascan th 90 140 50 8\n",
    "do_sleep 10\n",
    "\n",
    "closesh4 # close the shutter at the end of the scans"
   ]
  },
  {
   "cell_type": "code",
   "execution_count": 3,
   "metadata": {},
   "outputs": [
    {
     "ename": "SyntaxError",
     "evalue": "EOL while scanning string literal (<ipython-input-3-934e4576062b>, line 3)",
     "output_type": "error",
     "traceback": [
      "\u001b[1;36m  File \u001b[1;32m\"<ipython-input-3-934e4576062b>\"\u001b[1;36m, line \u001b[1;32m3\u001b[0m\n\u001b[1;33m    def energycheck'{\u001b[0m\n\u001b[1;37m                     ^\u001b[0m\n\u001b[1;31mSyntaxError\u001b[0m\u001b[1;31m:\u001b[0m EOL while scanning string literal\n"
     ]
    }
   ],
   "source": [
    "# This is a macro to perform energy check.\n",
    "\n",
    "def energycheck '{\n",
    "\n",
    "    closesh4 # close shutter No.4\n",
    "    uan 130 90 # uan tth_pos th_pos, Move while updating screen (note: th should be 90, but tth is actually not crucial)\n",
    "    opensh4 # open shutter No.4\n",
    "\n",
    "    Escan 930 933 60 1 # Escan start finish intervals time\n",
    "\n",
    "    moveE pl_xMAX - 0.4\n",
    "    do_sleep 10\n",
    "    moveE pl_xMAX - 0.2\n",
    "    do_sleep 10\n",
    "    setE 931.5 # set the energy at highest intensity as the correct one\n",
    "    do_sleep 10\n",
    "\n",
    "    closesh4\n",
    "\n",
    "}'"
   ]
  },
  {
   "cell_type": "code",
   "execution_count": 4,
   "metadata": {},
   "outputs": [
    {
     "ename": "SyntaxError",
     "evalue": "EOL while scanning string literal (<ipython-input-4-9f71ef843799>, line 3)",
     "output_type": "error",
     "traceback": [
      "\u001b[1;36m  File \u001b[1;32m\"<ipython-input-4-9f71ef843799>\"\u001b[1;36m, line \u001b[1;32m3\u001b[0m\n\u001b[1;33m    def align30 '{\u001b[0m\n\u001b[1;37m                  ^\u001b[0m\n\u001b[1;31mSyntaxError\u001b[0m\u001b[1;31m:\u001b[0m EOL while scanning string literal\n"
     ]
    }
   ],
   "source": [
    "# This is a macro to perform alignment.\n",
    "\n",
    "def align30 '{\n",
    "\n",
    "    closesh4\n",
    "    uan 130 90\n",
    "    opensh4\n",
    "    \n",
    "    lup z -2 2 40 0.1 # lup motor start finish intervals time, single-motor relative position scan. Note: lup is the same as dscan.\n",
    "    umv z CEN # move z to the center of the signal\n",
    "    lup y -2 2 40 0.1\n",
    "    umv y CEN\n",
    "    \n",
    "    lup z -2 2 40 0.1 # repeat the alignment to double check\n",
    "    umv z CEN\n",
    "    lup y -2 2 40 0.1\n",
    "    umv y CEN\n",
    "    \n",
    "    closesh4\n",
    "    uan 130 30 # change th to 30 for x alignment\n",
    "    opensh4\n",
    "    \n",
    "    lup\n",
    "    \n",
    "}'\n",
    "\n"
   ]
  }
 ],
 "metadata": {
  "kernelspec": {
   "display_name": "Python 3",
   "language": "python",
   "name": "python3"
  },
  "language_info": {
   "codemirror_mode": {
    "name": "ipython",
    "version": 3
   },
   "file_extension": ".py",
   "mimetype": "text/x-python",
   "name": "python",
   "nbconvert_exporter": "python",
   "pygments_lexer": "ipython3",
   "version": "3.6.3"
  }
 },
 "nbformat": 4,
 "nbformat_minor": 2
}

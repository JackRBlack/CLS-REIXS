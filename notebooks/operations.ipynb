{
 "cells": [
  {
   "cell_type": "markdown",
   "metadata": {},
   "source": [
    "# Notes on Some Operations\n",
    "## Wenjie Chen\n",
    "### Date: May 9th, 2018"
   ]
  },
  {
   "cell_type": "markdown",
   "metadata": {},
   "source": [
    "## 1. Load the sample\n",
    "\n",
    "   1. Close the shutter which links the load lock and the diffractometer room. (clockwise)\n",
    "   2. Refill the load lock.\n",
    "   \n",
    "          a. shut down the vacuum gauge\n",
    "          b. close the high-vacuum pump\n",
    "          c. close the low-vacuum pump\n",
    "          d. after the rotating speed slowing down to 700 Hz, open the shutter to refill the lock with nitrogen gas.\n",
    "\n",
    "   3. After the pressure raising up to about 750 Torr (1 atm = 760 Torr), open the door to load the sample, then close the door.\n",
    "   4. Pump the load lock [open low-vacuum pump -> (after 10e-5) open high-vacuum pump -> (after ?) open the vacuum gauge].\n",
    "   5. After the pressure lowing down to about 10e-8 Torr, open the shutter which links the load lock and the diffractometer room. (anti-clockwise)\n",
    "   6. Rotate the holder position on the diffractometer, th = ?.\n",
    "   7. Carefully bite the sample holder with the pliers, then push it into the diffractometer room and load it on position. Pull back the pliers and close the shutter.\n",
    "   8. Rotate the holder position on the diffractometer, th = 140.\n",
    "   9. Use the screwdriver to lock the sample holder."
   ]
  },
  {
   "cell_type": "markdown",
   "metadata": {
    "collapsed": true
   },
   "source": [
    "## 2. Alignment\n",
    "\n",
    "After successfully loading the sample, we need to do alignment with the following steps.\n",
    "\n",
    "   1. Align the diffractometer.\n",
    "   \n",
    "          a. Align tth. # only need once\n",
    "          b. Align sample position x.\n",
    "          c. Align th. # only need once. # may need to repeat steps 2 & 3 for several times\n",
    "          d. Align kai.\n",
    "          e. Align phi.\n",
    "      \n",
    "   2. Align the rotation center.\n",
    "   \n",
    "          a. Align sample position y & z.\n",
    "          b. Align sample position x. # by comparing curve position at different th\n",
    "      \n",
    "   3. Align the sample orientation and measure the lattice constant.\n",
    "   \n",
    "          a. Set the lattice constants with the \"setlat\" command.\n",
    "          b. Choose two bragg peaks, namely (0, 0, l) [out-of-plane] and (h, 0, l) [in-plane] for example.\n",
    "          c. Use the \"ca\" command to calculate the geometry of those two bragg peaks.\n",
    "          d. Move the energy to a suitable one. (repeat 3-4?)\n",
    "          e. Firstly find (0, 0, l) [out-of-plane] with th2th scan. (th = 90) Set it to \"or0\".\n",
    "          f. Then find (h, 0, l) [in-plane] with th scan and th2th scan. Set it to \"or1\".\n",
    "          g. Calculate the UB matrix with or0 and or1 (command: ?).\n",
    "      "
   ]
  },
  {
   "cell_type": "markdown",
   "metadata": {},
   "source": [
    "## 3. Measurement"
   ]
  },
  {
   "cell_type": "code",
   "execution_count": null,
   "metadata": {
    "collapsed": true
   },
   "outputs": [],
   "source": []
  }
 ],
 "metadata": {
  "kernelspec": {
   "display_name": "Python 3",
   "language": "python",
   "name": "python3"
  },
  "language_info": {
   "codemirror_mode": {
    "name": "ipython",
    "version": 3
   },
   "file_extension": ".py",
   "mimetype": "text/x-python",
   "name": "python",
   "nbconvert_exporter": "python",
   "pygments_lexer": "ipython3",
   "version": "3.6.3"
  }
 },
 "nbformat": 4,
 "nbformat_minor": 2
}

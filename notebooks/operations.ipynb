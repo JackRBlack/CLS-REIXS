{
 "cells": [
  {
   "cell_type": "markdown",
   "metadata": {},
   "source": [
    "# Notes on Some Operations\n",
    "## Wenjie Chen\n",
    "### Date: May 9th, 2018"
   ]
  },
  {
   "cell_type": "markdown",
   "metadata": {},
   "source": [
    "## 1. Load the sample\n",
    "\n",
    "    1. Pump the load lock\n",
    "    2. "
   ]
  },
  {
   "cell_type": "markdown",
   "metadata": {
    "collapsed": true
   },
   "source": [
    "## 2. Alignment\n",
    "\n",
    "After successfully loading the sample, we need to do alignment with the following steps.\n",
    "\n",
    "   1. Align the diffractometer.\n",
    "      1. Align tth. # only need once\n",
    "      2. Align sample position $x$.\n",
    "      3. Align th. # only need once. # may need to repeat steps 2 & 3 for several times\n",
    "      4. Align kai.\n",
    "      5. Align phi.\n",
    "   2. Align the rotation center.\n",
    "      1. Align sample position $y$ & $z$.\n",
    "      2. Align sample position $x$. # by comparing curve position at different th"
   ]
  },
  {
   "cell_type": "code",
   "execution_count": null,
   "metadata": {
    "collapsed": true
   },
   "outputs": [],
   "source": []
  }
 ],
 "metadata": {
  "kernelspec": {
   "display_name": "Python 3",
   "language": "python",
   "name": "python3"
  },
  "language_info": {
   "codemirror_mode": {
    "name": "ipython",
    "version": 3
   },
   "file_extension": ".py",
   "mimetype": "text/x-python",
   "name": "python",
   "nbconvert_exporter": "python",
   "pygments_lexer": "ipython3",
   "version": "3.6.3"
  }
 },
 "nbformat": 4,
 "nbformat_minor": 2
}
